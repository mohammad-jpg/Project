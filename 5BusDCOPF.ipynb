{
 "cells": [
  {
   "cell_type": "code",
   "execution_count": 1,
   "metadata": {},
   "outputs": [],
   "source": [
    "from pyomo.environ import *"
   ]
  },
  {
   "cell_type": "code",
   "execution_count": 2,
   "metadata": {},
   "outputs": [],
   "source": [
    "# PU calcualtions\n",
    "sbase = 100;\n",
    "#Line impeadance PU\n",
    "x12 = 0.0281   \n",
    "x14 = 0.0304\n",
    "x15 = 0.0064\n",
    "x23 = 0.0108\n",
    "x34 = x45 = 0.0297\n",
    "#slack bus \n",
    "delta1 = 0        #ask q \n",
    "\n",
    "#rounding number\n",
    "k = 3"
   ]
  },
  {
   "cell_type": "code",
   "execution_count": 3,
   "metadata": {},
   "outputs": [],
   "source": [
    "#defining model\n",
    "model = AbstractModel()\n",
    "#Power Generation\n",
    "model.pg1 = Var(bounds=(0,0.4))\n",
    "model.pg2 = Var(bounds=(0,1.7))\n",
    "model.pg3 = Var(bounds=(0,5.2))\n",
    "model.pg4 = Var(bounds=(0,2))\n",
    "model.pg5 = Var(bounds=(0,6))\n",
    "\n",
    "\n",
    "#power being sent from from one bus to the next\n",
    "model.p12 = Var(bounds=(-4,4))\n",
    "model.p14 = Var(bounds=(-4,4))\n",
    "model.p15 = Var(bounds=(-4,4))\n",
    "model.p23 = Var(bounds=(-4,4))\n",
    "model.p34 = Var(bounds=(-4,4))\n",
    "model.p45 = Var(bounds=(-2.4,2.4))\n",
    "\n",
    "\n",
    "#voltage angle @ each bus \n",
    "model.delta2 = Var()\n",
    "model.delta3 = Var()\n",
    "model.delta4 = Var()\n",
    "model.delta5 = Var()"
   ]
  },
  {
   "cell_type": "code",
   "execution_count": 4,
   "metadata": {},
   "outputs": [],
   "source": [
    "'''   Constraints    '''\n",
    "\n",
    "\n",
    "#active flow calculation between each pair of connected buses\n",
    "def con_rule1(model):\n",
    "    return model.pg1 + model.pg2  == model.p12 + model.p14 + model.p15\n",
    "model.con1 = Constraint(rule=con_rule1)\n",
    "\n",
    "\n",
    "def con_rule2(model):\n",
    "    return model.p12  + model.p23 ==  3\n",
    "model.con2 = Constraint(rule=con_rule2)\n",
    "\n",
    "\n",
    "def con_rule3(model):\n",
    "    return model.pg3 == model.p23+3+model.p34\n",
    "model.con3 = Constraint(rule=con_rule3)\n",
    "\n",
    "def con_rule4(model):\n",
    "    \n",
    "    return model.pg4 + model.p34 + model.p14 == 4 + model.p45\n",
    "\n",
    "model.con4 = Constraint(rule=con_rule4)\n",
    "\n",
    "def con_rule5(model):\n",
    "    \n",
    "    return model.pg5 + model.p45 + model.p15 == 0 \n",
    "\n",
    "model.con5 = Constraint(rule=con_rule5)\n",
    "\n",
    "\n",
    "#nodal active power balance in each bus\n",
    "def con_rule6(model):\n",
    "    \n",
    "    return model.p12 == (delta1 - model.delta2)/x12\n",
    "\n",
    "model.con6 = Constraint(rule=con_rule6)\n",
    "\n",
    "def con_rule7(model):\n",
    "    return model.p14 == (delta1 - model.delta4)/x14\n",
    "model.conf7 = Constraint(rule=con_rule7)\n",
    "\n",
    "def con_rule8(model):\n",
    "    return model.p15 == (delta1 - model.delta5)/x15\n",
    "model.con8 = Constraint(rule=con_rule8)\n",
    "\n",
    "def con_rule9(model):\n",
    "    return model.p23 == (model.delta3 - model.delta2)/x23\n",
    "model.con9 = Constraint(rule=con_rule9)\n",
    "\n",
    "def con_rule10(model):\n",
    "    return model.p34 == (model.delta3 - model.delta4)/x34\n",
    "model.con10 = Constraint(rule=con_rule10)\n",
    "\n",
    "def con_rule11(model):\n",
    "    return model.p45 == (model.delta4 - model.delta5)/x45\n",
    "model.con11 = Constraint(rule=con_rule11)"
   ]
  },
  {
   "cell_type": "code",
   "execution_count": 5,
   "metadata": {},
   "outputs": [],
   "source": [
    "#Objective Function, trying to minimize the cost.\n",
    "def obj_rule(model):\n",
    "    return 14*model.pg1+15*model.pg2+30*model.pg3+40*model.pg4+10*model.pg5\n",
    "model.OF = Objective(rule=obj_rule,sense=minimize)\n"
   ]
  },
  {
   "cell_type": "code",
   "execution_count": 6,
   "metadata": {},
   "outputs": [],
   "source": [
    "opt = SolverFactory('glpk')\n",
    "instance = model.create_instance()\n",
    "results = opt.solve(instance) # solves and updates instance"
   ]
  },
  {
   "cell_type": "code",
   "execution_count": 12,
   "metadata": {},
   "outputs": [
    {
     "name": "stdout",
     "output_type": "stream",
     "text": [
      "DC 5 Bus PowerFlow\n",
      "Example 6.5 taken from Power System Optimization Modeling in GAMS\n",
      "Report\n",
      "Power Generated at Bus 1 = 40.0 MW\n",
      "Power Generated at Bus 2 = 170.0 MW\n",
      "Power Generated at Bus 3 = 323.495 MW\n",
      "Power Generated at Bus 4 = 0.0 MW\n",
      "Power Generated at Bus 5 = 466.505 MW\n",
      "--------------------------------------\n",
      "Power Flowing from bus 1 to 2 = 249.717 MW\n",
      "Power Flowing from bus 1 to 4 = 186.788 MW\n",
      "Power Flowing from bus 1 to 5 = -226.505 MW\n",
      "Power Flowing from bus 2 to 3 = 50.283 MW\n",
      "Power Flowing from bus 3 to 4 = -26.788 MW\n",
      "Power Flowing from bus 4 to 5 = -240.0 MW\n",
      "--------------------------------------\n",
      "Delta 1 = 0\n",
      "Delta 2 = -0.07\n",
      "Delta 3 = -0.065\n",
      "Delta 4 = -0.057\n",
      "Delta 5 = 0.014\n",
      "cost = 17479.897 €/Hour\n"
     ]
    }
   ],
   "source": [
    "print(\"DC 5 Bus PowerFlow\")\n",
    "print(\"Example 6.5 taken from Power System Optimization Modeling in GAMS\")\n",
    "print(\"Report\")\n",
    "print('Power Generated at Bus 1 = '+str(round(sbase*value(instance.pg1),k))+\" MW\")\n",
    "print('Power Generated at Bus 2 = '+str(round(sbase*value(instance.pg2),k))+\" MW\")\n",
    "print('Power Generated at Bus 3 = '+str(round(sbase*value(instance.pg3),k))+\" MW\")\n",
    "print('Power Generated at Bus 4 = '+str(round(sbase*value(instance.pg4),k))+\" MW\")\n",
    "print('Power Generated at Bus 5 = '+str(round(sbase*value(instance.pg5),k))+\" MW\")\n",
    "print(\"--------------------------------------\")\n",
    "print('Power Flowing from bus 1 to 2 = '+str(round(sbase*value(instance.p12),k))+\" MW\")\n",
    "print('Power Flowing from bus 1 to 4 = '+str(round(sbase*value(instance.p14),k))+\" MW\")\n",
    "print('Power Flowing from bus 1 to 5 = '+str(round(sbase*value(instance.p15),k))+\" MW\")\n",
    "\n",
    "print('Power Flowing from bus 2 to 3 = '+str(round(sbase*value(instance.p23),k))+\" MW\")\n",
    "print('Power Flowing from bus 3 to 4 = '+str(round(sbase*value(instance.p34),k))+\" MW\")\n",
    "print('Power Flowing from bus 4 to 5 = '+str(round(sbase*value(instance.p45),k))+\" MW\")\n",
    "print(\"--------------------------------------\")\n",
    "print('Delta 1 = '+str(delta1))\n",
    "print('Delta 2 = '+str(round(value(instance.delta2),k)))\n",
    "print('Delta 3 = '+str(round(value(instance.delta3),k)))\n",
    "print('Delta 4 = '+str(round(value(instance.delta4),k)))\n",
    "print('Delta 5 = '+str(round(value(instance.delta5),k)))\n",
    "\n",
    "print('cost = '+ str(round(sbase*value(instance.OF),k))+' €/Hour')"
   ]
  },
  {
   "cell_type": "code",
   "execution_count": 8,
   "metadata": {},
   "outputs": [
    {
     "name": "stdout",
     "output_type": "stream",
     "text": [
      "Power Flowing from bus 1 to 2 = 249.717 MW\n",
      "Power Flowing from bus 1 to 4 = 186.788 MW\n",
      "Power Flowing from bus 1 to 5 = -226.505 MW\n",
      "Power Flowing from bus 2 to 3 = 50.283 MW\n",
      "Power Flowing from bus 3 to 4 = -26.788 MW\n",
      "Power Flowing from bus 4 to 5 = -240.0 MW\n"
     ]
    }
   ],
   "source": [
    "print('Power Flowing from bus 1 to 2 = '+str(round(sbase*value(instance.p12),k))+\" MW\")\n",
    "print('Power Flowing from bus 1 to 4 = '+str(round(sbase*value(instance.p14),k))+\" MW\")\n",
    "print('Power Flowing from bus 1 to 5 = '+str(round(sbase*value(instance.p15),k))+\" MW\")\n",
    "\n",
    "print('Power Flowing from bus 2 to 3 = '+str(round(sbase*value(instance.p23),k))+\" MW\")\n",
    "print('Power Flowing from bus 3 to 4 = '+str(round(sbase*value(instance.p34),k))+\" MW\")\n",
    "print('Power Flowing from bus 4 to 5 = '+str(round(sbase*value(instance.p45),k))+\" MW\")\n",
    "\n"
   ]
  },
  {
   "cell_type": "code",
   "execution_count": 9,
   "metadata": {},
   "outputs": [
    {
     "name": "stdout",
     "output_type": "stream",
     "text": [
      "Delta 1 = 0\n",
      "Delta 2 = -0.07\n",
      "Delta 3 = -0.065\n",
      "Delta 4 = -0.057\n",
      "Delta 5 = 0.014\n"
     ]
    }
   ],
   "source": [
    "print('Delta 1 = '+str(delta1))\n",
    "print('Delta 2 = '+str(round(value(instance.delta2),k)))\n",
    "print('Delta 3 = '+str(round(value(instance.delta3),k)))\n",
    "print('Delta 4 = '+str(round(value(instance.delta4),k)))\n",
    "print('Delta 5 = '+str(round(value(instance.delta5),k)))"
   ]
  },
  {
   "cell_type": "code",
   "execution_count": 10,
   "metadata": {},
   "outputs": [
    {
     "name": "stdout",
     "output_type": "stream",
     "text": [
      "cost = 17479.897 €/Hour\n"
     ]
    }
   ],
   "source": [
    "print('cost = '+ str(round(sbase*value(instance.OF),k))+' €/Hour')"
   ]
  },
  {
   "cell_type": "code",
   "execution_count": null,
   "metadata": {},
   "outputs": [],
   "source": []
  }
 ],
 "metadata": {
  "kernelspec": {
   "display_name": "Python 3",
   "language": "python",
   "name": "python3"
  },
  "language_info": {
   "codemirror_mode": {
    "name": "ipython",
    "version": 3
   },
   "file_extension": ".py",
   "mimetype": "text/x-python",
   "name": "python",
   "nbconvert_exporter": "python",
   "pygments_lexer": "ipython3",
   "version": "3.8.3"
  }
 },
 "nbformat": 4,
 "nbformat_minor": 4
}
