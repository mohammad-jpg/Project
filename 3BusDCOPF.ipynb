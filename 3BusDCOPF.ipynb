{
 "cells": [
  {
   "cell_type": "code",
   "execution_count": 1,
   "metadata": {},
   "outputs": [],
   "source": [
    "from pyomo.environ import *"
   ]
  },
  {
   "cell_type": "code",
   "execution_count": 2,
   "metadata": {},
   "outputs": [],
   "source": [
    "# PU calcualtions\n",
    "sbase = 100;\n",
    "#Line impeadance PU\n",
    "x12 = 0.2   \n",
    "x32 = 0.25\n",
    "x13 = 0.4\n",
    "#slack bus \n",
    "delta3 = 0"
   ]
  },
  {
   "cell_type": "code",
   "execution_count": 3,
   "metadata": {},
   "outputs": [],
   "source": [
    "#defining model\n",
    "model = AbstractModel()\n",
    "#Power Generation\n",
    "model.pg1 = Var(bounds=(0,0.65))\n",
    "model.pg2 = Var(bounds=(0,1.00))\n",
    "\n",
    "#power being sent from from one bus to the next\n",
    "model.p12 = Var(bounds=(-1,1))\n",
    "model.p13 = Var(bounds=(-1,1))\n",
    "model.p32 = Var(bounds=(-1,1))\n",
    "\n",
    "#voltage angle @ each bus \n",
    "model.delta1 = Var()\n",
    "model.delta2 = Var()"
   ]
  },
  {
   "cell_type": "code",
   "execution_count": 4,
   "metadata": {},
   "outputs": [],
   "source": [
    "'''   Constraints    '''\n",
    "#active flow calculation between each pair of connected buses\n",
    "def con_rule1(model):\n",
    "    return model.pg1  == model.p12 + model.p13\n",
    "model.con1 = Constraint(rule=con_rule1)\n",
    "\n",
    "def con_rule2(model):\n",
    "    return model.p12  + model.p32 ==  1\n",
    "model.con2 = Constraint(rule=con_rule2)\n",
    "\n",
    "def con_rule3(model):\n",
    "    return model.pg2 + model.p13 == model.p32   \n",
    "model.con3 = Constraint(rule=con_rule3)\n",
    "\n",
    "#nodal active power balance in each bus\n",
    "def con_rule4(model):\n",
    "    return model.p12 == (model.delta1 - model.delta2)/x12\n",
    "model.con4 = Constraint(rule=con_rule4)\n",
    "\n",
    "def con_rule5(model):\n",
    "    return model.p13 == (model.delta1 - delta3)/x13\n",
    "model.conf = Constraint(rule=con_rule5)\n",
    "\n",
    "def con_rule6(model):\n",
    "    return model.p32 == (delta3 - model.delta2)/x32\n",
    "model.con6 = Constraint(rule=con_rule6)\n"
   ]
  },
  {
   "cell_type": "code",
   "execution_count": 5,
   "metadata": {},
   "outputs": [],
   "source": [
    "\n",
    "#Objective Function, trying to minimize the cost.\n",
    "def obj_rule(model):\n",
    "    return 10*model.pg1+11*model.pg2\n",
    "model.OF = Objective(rule=obj_rule,sense=minimize)\n",
    "\n"
   ]
  },
  {
   "cell_type": "code",
   "execution_count": 6,
   "metadata": {},
   "outputs": [
    {
     "name": "stdout",
     "output_type": "stream",
     "text": [
      "feasible\n"
     ]
    }
   ],
   "source": [
    "\n",
    "opt = SolverFactory('glpk')\n",
    "instance = model.create_instance()\n",
    "results = opt.solve(instance) # solves and updates instance\n",
    "if (results.solver.status == SolverStatus.ok) and (results.solver.termination_condition == TerminationCondition.optimal):\n",
    "    print('feasible')\n",
    "elif (results.solver.termination_condition == TerminationCondition.infeasible):\n",
    "    print('infeasible')\n",
    "else:\n",
    "    print ('Solver Status:',  result.solver.status)"
   ]
  },
  {
   "cell_type": "code",
   "execution_count": 8,
   "metadata": {
    "scrolled": true
   },
   "outputs": [
    {
     "name": "stdout",
     "output_type": "stream",
     "text": [
      "DC 3 Bus PowerFlow\n",
      "Example 6.3 taken from Power System Optimization Modeling in GAMS\n",
      "Report\n",
      "Power Generated at Bus 1 = 65.0 MW\n",
      "Power Generated at Bus 2 = 35.0 MW\n",
      "--------------------------------------\n",
      "Power Flowing from bus 1 to 2 = 60.0 MW\n",
      "Power Flowing from bus 1 to 3 = 5.0 MW\n",
      "Power Flowing from bus 3 to 2 = 40.0 MW\n",
      "--------------------------------------\n",
      "Delta 1 = 0.02\n",
      "Delta 2 = -0.1\n",
      "Delta 3 = 0\n",
      "--------------------------------------\n",
      "cost = 1035.0 €/Hour\n"
     ]
    }
   ],
   "source": [
    "print(\"DC 3 Bus PowerFlow\")\n",
    "print(\"Example 6.3 taken from Power System Optimization Modeling in GAMS\")\n",
    "print(\"Report\")\n",
    "print('Power Generated at Bus 1 = '+str(round(sbase*value(instance.pg1),2))+\" MW\")\n",
    "print('Power Generated at Bus 2 = '+str(round(sbase*value(instance.pg2),2))+\" MW\")\n",
    "print(\"--------------------------------------\")\n",
    "print('Power Flowing from bus 1 to 2 = '+str(round(sbase*value(instance.p12),2))+\" MW\")\n",
    "print('Power Flowing from bus 1 to 3 = '+str(round(sbase*value(instance.p13),2))+\" MW\")\n",
    "print('Power Flowing from bus 3 to 2 = '+str(round(sbase*value(instance.p32),2))+\" MW\")\n",
    "print(\"--------------------------------------\")\n",
    "print('Delta 1 = '+str(round(value(instance.delta1),2)))\n",
    "print('Delta 2 = '+str(round(value(instance.delta2),2)))\n",
    "print('Delta 3 = '+str(delta3))\n",
    "print(\"--------------------------------------\")\n",
    "print('cost = '+ str(round(sbase*value(instance.OF),2))+' €/Hour')"
   ]
  },
  {
   "cell_type": "code",
   "execution_count": null,
   "metadata": {},
   "outputs": [],
   "source": []
  },
  {
   "cell_type": "code",
   "execution_count": null,
   "metadata": {},
   "outputs": [],
   "source": []
  },
  {
   "cell_type": "code",
   "execution_count": null,
   "metadata": {},
   "outputs": [],
   "source": []
  },
  {
   "cell_type": "code",
   "execution_count": null,
   "metadata": {},
   "outputs": [],
   "source": []
  }
 ],
 "metadata": {
  "kernelspec": {
   "display_name": "Python 3",
   "language": "python",
   "name": "python3"
  },
  "language_info": {
   "codemirror_mode": {
    "name": "ipython",
    "version": 3
   },
   "file_extension": ".py",
   "mimetype": "text/x-python",
   "name": "python",
   "nbconvert_exporter": "python",
   "pygments_lexer": "ipython3",
   "version": "3.8.3"
  }
 },
 "nbformat": 4,
 "nbformat_minor": 4
}
