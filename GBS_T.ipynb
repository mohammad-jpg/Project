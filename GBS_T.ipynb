{
 "cells": [
  {
   "cell_type": "code",
   "execution_count": 1,
   "metadata": {},
   "outputs": [],
   "source": [
    "from pyomo.environ import *\n",
    "import math"
   ]
  },
  {
   "cell_type": "code",
   "execution_count": 1,
   "metadata": {},
   "outputs": [
    {
     "data": {
      "text/html": [
       "<style>.container { width:100% !important; }</style>"
      ],
      "text/plain": [
       "<IPython.core.display.HTML object>"
      ]
     },
     "metadata": {},
     "output_type": "display_data"
    }
   ],
   "source": [
    "from IPython.core.display import display, HTML\n",
    "display(HTML(\"<style>.container { width:100% !important; }</style>\"))"
   ]
  },
  {
   "cell_type": "code",
   "execution_count": 3,
   "metadata": {},
   "outputs": [],
   "source": [
    "#this function prints the results of the solver status of the program\n",
    "def solverstatus(results):\n",
    "    if (results.solver.status == SolverStatus.ok) and (results.solver.termination_condition == TerminationCondition.optimal):\n",
    "        print('feasible')\n",
    "    elif (results.solver.termination_condition == TerminationCondition.infeasible):\n",
    "        print('infeasible')\n",
    "    else:\n",
    "        print ('Solver Status:',  results.solver.status)\n",
    "#this function adds 2 lists together and removes the identical elements\n",
    "def remove_dup(first_list,second_list):\n",
    "    return(list(dict.fromkeys(first_list + second_list)))   \n",
    "\n",
    "    \n",
    "model = AbstractModel()\n",
    "model.i = Set(doc='set of Gen units')\n",
    "model.b = Param(model.i, doc='b coef of cost')\n",
    "model.pmin = Param(model.i, doc='Min gen')\n",
    "model.pmax = Param(model.i, doc='Max gen')\n",
    "model.t = Set(doc='set of time steps')\n",
    "model.dem = Param(model.t, doc='System demand', mutable=True)\n",
    "model.GBconnect = Set(dimen=2, doc='Generator connected to bus')\n",
    "\n",
    "model.lines = Set(dimen=3,doc = \"Lines connecting bus and node\")\n",
    "model.branchX = Param(model.lines, doc='Max gen')\n",
    "model.branchLim = Param(model.lines, doc='Max gen')\n",
    "\n",
    "model.bus = Set()\n",
    "model.node = Set(initialize=model.bus)\n",
    "\n",
    "model.sbase = Param(doc='Sbase')\n",
    "model.Pd = Param(model.bus, doc='Max gen')\n",
    "model.delta = Var(model.bus,model.t, bounds=(-math.pi, math.pi), domain=Reals, doc='angle')\n",
    "\n",
    "#Defines the Pmin and Pmax of the busses\n",
    "def Pbounds(model,i,t):\n",
    "     return (0*model.pmin[i]/model.sbase, model.pmax[i]/model.sbase)\n",
    "model.P = Var(model.i,model.t, bounds=Pbounds, domain=Reals)\n",
    "\n",
    "#Objective Function for Bus and nodes.\n",
    "def objective_function_rule(model):\n",
    "    return sum(model.b[i]*model.P[i,t] for i in model.i for t in model.t)\n",
    "model.objective_function = Objective(rule=objective_function_rule, sense = minimize)\n",
    "\n",
    "def LineBounds(model,lines,bus,node,t):\n",
    "    \n",
    "    if (lines,bus,node)  in model.lines:\n",
    "\n",
    "        return(-model.branchLim[lines,bus,node]/model.sbase,model.branchLim[lines,bus,node]/model.sbase)\n",
    "    else:\n",
    "        return Constraint.Skip    \n",
    "model.flow = Var( model.lines,model.t,bounds = LineBounds , domain=Reals, doc='flow')\n",
    "\n",
    "\n",
    "\n",
    "#this function specifies which bus is attached to which nodes. [correct]\n",
    "def NodesOut_init(model, bus):\n",
    "    \n",
    "    retval1 = []\n",
    "    retval2 = []\n",
    "    retval = []\n",
    "    for (l,i,j)  in model.lines:\n",
    "        if i == bus and j != bus:\n",
    "            #print(i,j,bus)\n",
    "            retval1.append(j)\n",
    "    for (l,j,i)  in model.lines:\n",
    "        if i == bus and j != bus:\n",
    "            retval2.append(j)\n",
    "    retval.append(remove_dup(retval1,retval2))\n",
    "    #print(str(retval))\n",
    "    return retval\n",
    "model.NodesOut = Set(model.bus, initialize=NodesOut_init,doc='outgoing flow nodes')\n",
    "\n",
    "\n",
    "#this function will specify which generator is attached to what bus. [correct]\n",
    "def Nodeswithgen(model, bus):\n",
    "    retval = []\n",
    "    for (gen,node) in model.GBconnect:\n",
    "        if node == bus:\n",
    "            retval.append(gen)\n",
    "    #print(retval) \n",
    "    return retval\n",
    "model.GB = Set(model.bus, initialize=Nodeswithgen,doc='Nodes with generator')\n",
    "\n",
    "#Definies the flow on each line, this function has the same issue of \"LineBounds\" function where it works but only for the buses and nodes provided. \n",
    "def linecalc_rule(model,line,bus,node,t):\n",
    "    if (line,bus,node) in model.lines:\n",
    "        #print(\"y\")\n",
    "        return model.flow[line,bus,node,t] == (1/model.branchX[line,bus,node])*(model.delta[bus,t] - model.delta[node,t])\n",
    "    else:\n",
    "        return Constraint.Skip\n",
    "model.constflowcalc = Constraint(model.lines, model.t,rule=linecalc_rule)\n",
    "\n",
    "\n",
    "#defines the balance rule on each bus \n",
    "def balance_rule(model,bus,t):\n",
    "    return sum(model.P[i,t] for i in model.GB[bus]) - model.dem[t]*model.Pd[bus]/model.sbase == sum(model.flow[line,b,node,t] for (line,b,node) in model.lines if b == bus)\n",
    "    \n",
    "\n",
    "model.constbalance = Constraint(model.bus,model.t , rule=balance_rule)\n",
    "\n",
    "\n",
    "opt = SolverFactory('glpk')\n",
    "instance = model.create_instance(\"data3_t.dat\")\n",
    "results = opt.solve(instance)\n"
   ]
  },
  {
   "cell_type": "code",
   "execution_count": 4,
   "metadata": {},
   "outputs": [],
   "source": [
    "#solverstatus(results)"
   ]
  },
  {
   "cell_type": "code",
   "execution_count": 5,
   "metadata": {},
   "outputs": [],
   "source": [
    "#instance.pprint()"
   ]
  },
  {
   "cell_type": "code",
   "execution_count": 6,
   "metadata": {},
   "outputs": [],
   "source": [
    "# print(\"---System Data---\")\n",
    "# print(\"--Power Demand at each bus--\")\n",
    "# for pd in instance.bus:\n",
    "#      print(pd , instance.Pd[pd])\n",
    "# print(\"--Branch Limits--\")\n",
    "# for bl in instance.lines:\n",
    "#      print(bl , instance.branchLim[bl])\n",
    "# print(\"--Line Impeadance--\")\n",
    "# for imp in instance.lines:\n",
    "#      print(imp , instance.branchX[imp])"
   ]
  },
  {
   "cell_type": "code",
   "execution_count": 8,
   "metadata": {
    "scrolled": true
   },
   "outputs": [
    {
     "name": "stdout",
     "output_type": "stream",
     "text": [
      "L1 b1 b2 1 2.30770865507285\n",
      "L1 b1 b2 2 2.16525750352514\n",
      "L1 b1 b2 3 2.49716765042727\n",
      "L2 b1 b4 1 1.27955966243412\n",
      "L2 b1 b4 2 1.20057449808634\n",
      "L2 b1 b4 3 1.8678838868822\n",
      "L4 b2 b3 1 0.606708655072849\n",
      "L4 b2 b3 2 0.569257503525143\n",
      "L3 b5 b1 1 3.58726831750697\n",
      "L3 b5 b1 2 3.36583200161148\n",
      "L3 b5 b1 3 2.26505153730947\n",
      "L4 b3 b2 3 0.502832349572732\n",
      "L5 b4 b3 1 1.09429134492715\n",
      "L5 b4 b3 2 1.02674249647486\n",
      "L5 b4 b3 3 0.267883886882217\n",
      "L6 b5 b4 1 2.082731682493\n",
      "L6 b5 b4 2 1.95416799838849\n",
      "L6 b5 b4 3 2.39999999999998\n"
     ]
    }
   ],
   "source": [
    "# print(\"---Results---\")\n",
    "# print(value(instance.objective_function.expr)*instance.sbase)\n",
    "PowerGen = []\n",
    "for i in instance.i:\n",
    "    for t in instance.t:\n",
    "        PowerGen.append([i , t, instance.P[i, t].value])\n",
    "# for [g,t,p] in PowerGen:\n",
    "#     print(g,t,p)\n",
    "    \n",
    "    \n",
    "LineFlow = [] \n",
    "for [l,b,n,t] in instance.flow:\n",
    "    if instance.flow[l,b,n,t].value >= 0:\n",
    "        LineFlow.append([l,b,n,t,instance.flow[l,b,n, t].value])\n",
    "for [l,b,n,t,F] in LineFlow:\n",
    "     print(l,b,n,t,F)\n",
    "\n",
    "    \n",
    "DeltaValue = []\n",
    "for [a,t] in instance.delta:\n",
    "    DeltaValue.append([a,t,instance.delta[a,t].value])\n",
    "# for [a,t,F] in DeltaValue:\n",
    "#     print(a,t,F)\n",
    "\n",
    "\n",
    "\n"
   ]
  },
  {
   "cell_type": "code",
   "execution_count": null,
   "metadata": {},
   "outputs": [],
   "source": []
  }
 ],
 "metadata": {
  "kernelspec": {
   "display_name": "Python 3",
   "language": "python",
   "name": "python3"
  },
  "language_info": {
   "codemirror_mode": {
    "name": "ipython",
    "version": 3
   },
   "file_extension": ".py",
   "mimetype": "text/x-python",
   "name": "python",
   "nbconvert_exporter": "python",
   "pygments_lexer": "ipython3",
   "version": "3.8.3"
  }
 },
 "nbformat": 4,
 "nbformat_minor": 4
}
